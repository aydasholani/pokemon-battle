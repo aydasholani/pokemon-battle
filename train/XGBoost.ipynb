{
 "cells": [
  {
   "cell_type": "code",
   "execution_count": 32,
   "metadata": {},
   "outputs": [],
   "source": [
    "import pandas as pd\n",
    "import numpy as np\n",
    "import xgboost as xgb\n",
    "from sklearn.model_selection import train_test_split, KFold, cross_val_score, RandomizedSearchCV\n",
    "from sklearn.metrics import accuracy_score, confusion_matrix,  classification_report\n",
    "from sklearn.preprocessing import OneHotEncoder\n",
    "import joblib\n",
    "import plotly.express as px\n"
   ]
  },
  {
   "cell_type": "code",
   "execution_count": 33,
   "metadata": {},
   "outputs": [],
   "source": [
    "data = pd.read_csv('../data/battle_results_top_10.csv')\n",
    "\n",
    "df = data.copy()\n",
    "\n",
    "df = pd.DataFrame(df)"
   ]
  },
  {
   "cell_type": "code",
   "execution_count": null,
   "metadata": {},
   "outputs": [],
   "source": [
    "df.head()"
   ]
  },
  {
   "cell_type": "code",
   "execution_count": null,
   "metadata": {},
   "outputs": [],
   "source": [
    "encoder = OneHotEncoder(handle_unknown='ignore', sparse_output=False)\n",
    "\n",
    "encoder.fit(df[['type', 'pokemon_class']])\n",
    "\n",
    "joblib.dump(encoder, '../models/onehot_encoder.pkl')"
   ]
  },
  {
   "cell_type": "code",
   "execution_count": 36,
   "metadata": {},
   "outputs": [],
   "source": [
    "encoder = joblib.load('../models/onehot_encoder.pkl')\n",
    "df_encoded = encoder.transform(df[['type', 'pokemon_class']])\n",
    "\n",
    "df_encoded = pd.DataFrame(df_encoded, columns=encoder.get_feature_names_out(['type', 'pokemon_class']))\n",
    "\n",
    "\n",
    "df_encoded = pd.concat([df.drop(columns=['type', 'pokemon_class']), df_encoded], axis=1)\n"
   ]
  },
  {
   "cell_type": "markdown",
   "metadata": {},
   "source": [
    "## XGBoost"
   ]
  },
  {
   "cell_type": "code",
   "execution_count": null,
   "metadata": {},
   "outputs": [],
   "source": [
    "cols_to_drop = [\n",
    "  'battle_id', 'name', 'pokemon_id',\n",
    "  'opponent_id', 'is_winner', 'opponent_name', \n",
    "  'opponent_primary_type', 'primary_type'\n",
    "]\n",
    "\n",
    "cols_to_use = ['attack', 'defense', 'speed', 'hp', 'effectiveness','attack_first', 'pokemon_class_Legendary', 'pokemon_class_Mythical', 'pokemon_class_Normal']\n",
    "\n",
    "# X = df_encoded.drop(columns=cols_to_drop)\n",
    "\n",
    "X = df_encoded[cols_to_use]\n",
    "y = df_encoded['is_winner']\n",
    "\n",
    "X_train, X_test, y_train, y_test = train_test_split(X, y, test_size=0.2, random_state=42)\n",
    "\n",
    "model = xgb.XGBClassifier(eval_metric='logloss')\n",
    "model.fit(X_train, y_train)\n",
    "accuracy = model.score(X_test, y_test)\n",
    "\n",
    "encoded_columns = X.columns.tolist()\n",
    "joblib.dump(encoded_columns, '../models/encoded_columns.pkl')\n",
    "\n",
    "print(f'Modellens noggrannhet: {accuracy * 100:.2f}%')\n"
   ]
  },
  {
   "cell_type": "markdown",
   "metadata": {},
   "source": [
    "## Confusion Matrix & Classification Report"
   ]
  },
  {
   "cell_type": "code",
   "execution_count": null,
   "metadata": {},
   "outputs": [],
   "source": [
    "y_pred = model.predict(X_test)\n",
    "conf_matrix = confusion_matrix(y_test, y_pred)\n",
    "print('Confusion Matrix: \\n', conf_matrix, end='\\n')\n",
    "print('____________________________________', end='\\n\\n')\n",
    "report = classification_report(y_test, y_pred, zero_division=1)\n",
    "print(f'Report:\\n{report}')"
   ]
  },
  {
   "cell_type": "markdown",
   "metadata": {},
   "source": [
    "## Cross Validation Accuracy for XGBoost"
   ]
  },
  {
   "cell_type": "code",
   "execution_count": null,
   "metadata": {},
   "outputs": [],
   "source": [
    "kf = KFold(n_splits=5, shuffle=True, random_state=42)\n",
    "\n",
    "scores = cross_val_score(model, X, y, cv=kf, scoring='accuracy')\n",
    "\n",
    "print(f\"Cross-Validation Accuracy: {scores.mean():.2f}\")"
   ]
  },
  {
   "cell_type": "markdown",
   "metadata": {},
   "source": [
    "## XGBoost x RandomizedSearchCV"
   ]
  },
  {
   "cell_type": "code",
   "execution_count": null,
   "metadata": {},
   "outputs": [],
   "source": [
    "param_grid = {\n",
    "    'n_estimators': [100, 200, 300],\n",
    "    'max_depth': [1, 3, 5],\n",
    "    'learning_rate': [0.01, 0.1, 0.2],\n",
    "    'subsample': [0.6, 0.8, 1.0],\n",
    "    'colsample_bytree': [0.3, 0.6, 1.0],\n",
    "    'gamma': [0, 0.1, 0.2],\n",
    "    'reg_alpha': [0, 0.1, 0.2],\n",
    "    'lambda': [1, 1.5, 0.2],\n",
    "    'min_child_weight': [1]\n",
    "}\n",
    "\n",
    "\n",
    "xgb_model = xgb.XGBClassifier(random_state=42)\n",
    "\n",
    "random_search = RandomizedSearchCV(\n",
    "    estimator=xgb_model, param_distributions=param_grid, \n",
    "    n_iter=100, cv=5, scoring='f1', verbose=1, random_state=42\n",
    ")\n",
    "\n",
    "random_search.fit(X_train, y_train)\n"
   ]
  },
  {
   "cell_type": "code",
   "execution_count": null,
   "metadata": {},
   "outputs": [],
   "source": [
    "print(f\"Best parameters found:\\n{random_search.best_params_}\")\n",
    "best_model = random_search.best_estimator_\n",
    "y_pred = best_model.predict(X_test)"
   ]
  },
  {
   "cell_type": "markdown",
   "metadata": {},
   "source": [
    "## Feature importance"
   ]
  },
  {
   "cell_type": "code",
   "execution_count": null,
   "metadata": {},
   "outputs": [],
   "source": [
    "importances = best_model.feature_importances_\n",
    "features = X.columns  \n",
    "sorted_idx = importances.argsort()\n",
    "feature_names = X.columns\n",
    "\n",
    "indices = np.argsort(importances)[::-1]\n",
    "print(\"Feature Importances: \")\n",
    "for i in range(X.shape[1]):\n",
    "  print(f\"{feature_names[indices[i]]}: {importances[indices[i]] * 100:.2f}%\")\n",
    "fig = px.bar(x=features[sorted_idx], y=importances[sorted_idx])\n",
    "fig.show()"
   ]
  },
  {
   "cell_type": "code",
   "execution_count": null,
   "metadata": {},
   "outputs": [],
   "source": [
    "conf_matrix = confusion_matrix(y_test, y_pred)\n",
    "print('Confusion Matrix: \\n', conf_matrix, end='\\n')\n",
    "print('____________________________________', end='\\n\\n')\n",
    "report = classification_report(y_test, y_pred, zero_division=1)\n",
    "print(f'Report:\\n{report}')\n",
    "print('____________________________________', end='\\n\\n')\n",
    "print('Accuracy Score: \\n', accuracy_score(y_test, y_pred))\n",
    "\n"
   ]
  },
  {
   "cell_type": "code",
   "execution_count": null,
   "metadata": {},
   "outputs": [],
   "source": [
    "importances = best_model.feature_importances_\n",
    "\n",
    "feature_names = X.columns\n",
    "\n",
    "indices = np.argsort(importances)[::-1]\n",
    "print(\"Feature Importances: \")\n",
    "for i in range(X.shape[1]):\n",
    "  print(f\"{feature_names[indices[i]]}: {importances[indices[i]] * 100:.2f}%\")"
   ]
  },
  {
   "cell_type": "code",
   "execution_count": null,
   "metadata": {},
   "outputs": [],
   "source": [
    "importance = best_model.feature_importances_\n",
    "features = X.columns  \n",
    "sorted_idx = importance.argsort()\n",
    "\n",
    "fig = px.bar(x=features[sorted_idx], y=importance[sorted_idx])\n",
    "fig.show()"
   ]
  },
  {
   "cell_type": "code",
   "execution_count": null,
   "metadata": {},
   "outputs": [],
   "source": [
    "joblib.dump(model, '../models/xgboost_model.pkl')"
   ]
  }
 ],
 "metadata": {
  "kernelspec": {
   "display_name": ".venv",
   "language": "python",
   "name": "python3"
  },
  "language_info": {
   "codemirror_mode": {
    "name": "ipython",
    "version": 3
   },
   "file_extension": ".py",
   "mimetype": "text/x-python",
   "name": "python",
   "nbconvert_exporter": "python",
   "pygments_lexer": "ipython3",
   "version": "3.8.19"
  }
 },
 "nbformat": 4,
 "nbformat_minor": 2
}
