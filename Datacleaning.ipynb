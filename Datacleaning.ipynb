{
 "cells": [
  {
   "cell_type": "code",
   "execution_count": 19,
   "metadata": {},
   "outputs": [],
   "source": [
    "import pandas as pd\n",
    "import numpy as np\n",
    "import plotly.express as px"
   ]
  },
  {
   "cell_type": "markdown",
   "metadata": {},
   "source": [
    "## 1. Läs in data"
   ]
  },
  {
   "cell_type": "code",
   "execution_count": null,
   "metadata": {},
   "outputs": [],
   "source": [
    "data = pd.read_csv('./data/pokemon.csv')\n",
    "columns_to_drop = ['forms_switchable', 'female_rate', 'genderless', 'baby_pokemon', \n",
    "       'can_evolve', 'evolves_from', 'base_experience', 'capture_rate', 'egg_groups', \n",
    "       'egg_cycles','base_happiness', 'abilities','special_attack', 'special_defense',\n",
    "       'height', 'weight', 'capture_rate', 'number_pokemon_with_typing', 'genus', 'shape', 'primary_color']\n",
    "\n",
    "df_reduced = data.drop(columns=columns_to_drop)\n",
    "df = pd.DataFrame(df_reduced)\n",
    "df = df[df['is_default'] != False]\n",
    "print(df.shape)"
   ]
  },
  {
   "cell_type": "code",
   "execution_count": null,
   "metadata": {},
   "outputs": [],
   "source": [
    "df.head()"
   ]
  },
  {
   "cell_type": "code",
   "execution_count": 22,
   "metadata": {},
   "outputs": [],
   "source": [
    "# Skapar en kolumn för pokemon klasser\n",
    "df['pokemon_class'] = df.apply(lambda row: 'Mythical' if row['mythical'] else ('Legendary' if row['legendary'] else 'Normal'), axis=1)\n",
    "\n",
    "# Splittar ut typing i två nya kolumner där primary är type1, secondary är type2\n",
    "df[['primary_type', 'secondary_type']] = df['typing'].str.split('~', expand=True)\n",
    "\n",
    "# Lägger till strängen 'None' på rader där type2 är None\n",
    "df.fillna({'secondary_type': 'None'}, inplace=True)\n",
    "\n",
    "# kommer inte använda secondary_type så jag droppar den\n",
    "df.drop('secondary_type', axis=1, inplace=True)\n",
    "\n",
    "# Tar bort orginal typing kolumn\n",
    "df.drop(['mythical', 'legendary'], axis=1, inplace=True)\n",
    "df.drop('typing', axis=1, inplace=True)\n",
    "# df.info()\n",
    "\n",
    "# Sparar orginal hp i en column\n",
    "df['original_hp'] = df['hp']\n",
    "\n",
    "df.rename(columns={'fly_attack_effectiveness': 'flying_attack_effectiveness'},inplace=True)"
   ]
  },
  {
   "cell_type": "code",
   "execution_count": 23,
   "metadata": {},
   "outputs": [],
   "source": [
    "df.to_csv('./data/pokemon_data_cleaned.csv', index=False)\n",
    "top_10_attack_per_type = df.groupby('primary_type').apply(lambda x: x.nlargest(10, 'attack'))\n",
    "top_10_attack_per_type.to_csv('./data/type_top_10_attack.csv', index=False)"
   ]
  }
 ],
 "metadata": {
  "kernelspec": {
   "display_name": ".venv",
   "language": "python",
   "name": "python3"
  },
  "language_info": {
   "codemirror_mode": {
    "name": "ipython",
    "version": 3
   },
   "file_extension": ".py",
   "mimetype": "text/x-python",
   "name": "python",
   "nbconvert_exporter": "python",
   "pygments_lexer": "ipython3",
   "version": "3.8.19"
  }
 },
 "nbformat": 4,
 "nbformat_minor": 2
}
