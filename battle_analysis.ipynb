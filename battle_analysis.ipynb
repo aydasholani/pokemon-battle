{
 "cells": [
  {
   "cell_type": "code",
   "execution_count": 25,
   "metadata": {},
   "outputs": [],
   "source": [
    "import pandas as pd\n",
    "from sklearn.ensemble import RandomForestClassifier\n",
    "import plotly.express as px\n",
    "import plotly.figure_factory as ff"
   ]
  },
  {
   "cell_type": "code",
   "execution_count": 26,
   "metadata": {},
   "outputs": [],
   "source": [
    "data = pd.read_csv('./data/battle_results_top_10.csv')\n",
    "\n",
    "df = data.copy()\n",
    "\n",
    "df = pd.DataFrame(df)"
   ]
  },
  {
   "cell_type": "markdown",
   "metadata": {},
   "source": [
    "### Plotta vinst vs förlust mellan typer"
   ]
  },
  {
   "cell_type": "code",
   "execution_count": null,
   "metadata": {},
   "outputs": [],
   "source": [
    "winner_counts = df.groupby('primary_type')['is_winner'].value_counts().reset_index(name='Antal')\n",
    "\n",
    "labels = {\n",
    "  'is_winner': 'Vinnare',\n",
    "  'primary_type': 'Typ',\n",
    "  'name': 'Pokemon',\n",
    "  'defense': 'Försvar',\n",
    "  'attack': 'Attack',\n",
    "  'wins': 'Antal Vinster'\n",
    "}\n",
    "\n",
    "fig = px.bar(\n",
    "  winner_counts, x='primary_type', y='Antal', color='is_winner',\n",
    "  color_discrete_map={True: '#318843', False: '#c34a36'},\n",
    "  title='Antal Vinnare och Förlorare per Typ',\n",
    "  facet_row='is_winner',\n",
    "  labels=labels,\n",
    ")\n",
    "\n",
    "fig.update_layout(xaxis_title='Typ', yaxis_title='Antal')\n",
    "fig.show()"
   ]
  },
  {
   "cell_type": "code",
   "execution_count": 28,
   "metadata": {},
   "outputs": [],
   "source": [
    "winners = df[df['is_winner'] == True]\n",
    "losers = df[df['is_winner'] == False]\n",
    "\n",
    "victories_per_type = winners.groupby(['primary_type', 'name']).size().reset_index(name='wins')\n",
    "max_wins_per_type = victories_per_type.loc[victories_per_type.groupby('primary_type')['wins'].idxmax()]\n",
    "min_wins_per_type = victories_per_type.loc[victories_per_type.groupby('primary_type')['wins'].idxmin()]\n",
    "\n"
   ]
  },
  {
   "cell_type": "code",
   "execution_count": null,
   "metadata": {},
   "outputs": [],
   "source": [
    "fig = px.bar(\n",
    "  max_wins_per_type, \n",
    "  x='primary_type', \n",
    "  y='wins', \n",
    "  color='name', \n",
    "  title='Pokemon med mest vinster per typ',\n",
    "  labels=labels\n",
    ")\n",
    "\n",
    "# Visa plotten\n",
    "fig.show()"
   ]
  },
  {
   "cell_type": "code",
   "execution_count": null,
   "metadata": {},
   "outputs": [],
   "source": [
    "fig = px.bar(\n",
    "  min_wins_per_type, \n",
    "  x='primary_type', \n",
    "  y='wins', \n",
    "  color='name', \n",
    "  title='Pokemon med minst vinster per typ',\n",
    "  labels=labels\n",
    ")\n",
    "\n",
    "fig.show()"
   ]
  },
  {
   "cell_type": "code",
   "execution_count": null,
   "metadata": {},
   "outputs": [],
   "source": [
    "max_wins_details = df[df['name'].isin(max_wins_per_type['name'])]\n",
    "max_wins_details = pd.merge(max_wins_details, max_wins_per_type[['name', 'wins']], on='name', how='left')\n",
    "\n",
    "fig = px.scatter(max_wins_details, \n",
    "                 x='attack', \n",
    "                 y='speed', \n",
    "                 color='primary_type', \n",
    "                 size='wins', \n",
    "                 hover_name='name',\n",
    "                 title='Attack vs Speed for Pokémon with Most Wins',\n",
    "                 labels=labels)\n",
    "\n",
    "\n",
    "fig.show()"
   ]
  }
 ],
 "metadata": {
  "kernelspec": {
   "display_name": ".venv",
   "language": "python",
   "name": "python3"
  },
  "language_info": {
   "codemirror_mode": {
    "name": "ipython",
    "version": 3
   },
   "file_extension": ".py",
   "mimetype": "text/x-python",
   "name": "python",
   "nbconvert_exporter": "python",
   "pygments_lexer": "ipython3",
   "version": "3.8.19"
  }
 },
 "nbformat": 4,
 "nbformat_minor": 2
}
