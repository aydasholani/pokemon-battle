{
 "cells": [
  {
   "cell_type": "code",
   "execution_count": 3,
   "metadata": {},
   "outputs": [],
   "source": [
    "import pandas as pd\n",
    "import plotly.express as px\n",
    "import joblib\n",
    "\n"
   ]
  },
  {
   "cell_type": "code",
   "execution_count": null,
   "metadata": {},
   "outputs": [],
   "source": [
    "data = pd.read_csv('../data/pokemon_data_cleaned.csv')\n",
    "\n",
    "df = data.copy()\n",
    "\n",
    "df = pd.DataFrame(df)\n",
    "\n",
    "df.head()"
   ]
  },
  {
   "cell_type": "code",
   "execution_count": 5,
   "metadata": {},
   "outputs": [],
   "source": [
    "xgboost_model = joblib.load('../models/xgboost_model.pkl')\n",
    "df['type'] = df['primary_type']\n",
    "\n",
    "df_encoded = pd.get_dummies(df, columns=['type', 'pokemon_class'])"
   ]
  },
  {
   "cell_type": "code",
   "execution_count": 6,
   "metadata": {},
   "outputs": [],
   "source": [
    "def create_battle_row(pokemon, opponent, attack_first):\n",
    "    return pd.Series({\n",
    "        'attack': pokemon['attack'],\n",
    "        'defense': pokemon['defense'],\n",
    "        'speed': pokemon['speed'],\n",
    "        'hp': pokemon['hp'],\n",
    "        'effectiveness': pokemon.get(f'{opponent[\"primary_type\"].lower()}_attack_effectiveness', 1),\n",
    "        'attack_first': attack_first,\n",
    "        'pokemon_class_Legendary': pokemon['pokemon_class_Legendary'],\n",
    "        'pokemon_class_Mythical': pokemon['pokemon_class_Mythical'],\n",
    "        'pokemon_class_Normal': pokemon['pokemon_class_Normal']\n",
    "    })\n",
    "    \n",
    "def simulate_battle(pokemon, opponent, model):\n",
    "    attack_first_pokemon = int(pokemon['speed'] > opponent['speed'])\n",
    "    attack_first_opponent = int(opponent['speed'] > pokemon['speed'])\n",
    "\n",
    "    pokemon_row = create_battle_row(pokemon, opponent, attack_first_pokemon)\n",
    "    opponent_row = create_battle_row(opponent, pokemon, attack_first_opponent)\n",
    "\n",
    "    pokemon_wins = model.predict(pokemon_row.values.reshape(1, -1))[0] == 1\n",
    "    opponent_wins = model.predict(opponent_row.values.reshape(1, -1))[0] == 1\n",
    "\n",
    "    return {\n",
    "        'pokemon_name': pokemon['name'],\n",
    "        'opponent_name': opponent['name'],\n",
    "        'pokemon_starts': bool(attack_first_pokemon),\n",
    "        'pokemon_wins': pokemon_wins,\n",
    "        'pokemon_attack': pokemon['attack'],\n",
    "        'opponent_attack': opponent['attack'],\n",
    "        'pokemon_defense': pokemon['defense'],\n",
    "        'opponent_defense': opponent['defense'],\n",
    "        'opponent_wins': opponent_wins\n",
    "    }\n",
    "    \n",
    "def simulate_one_vs_all(pokemon, all_pokemon, model):\n",
    "\n",
    "    battle_results = []\n",
    "    seen_battles = set()\n",
    "    battle_id = 1 \n",
    "\n",
    "    for _, opponent in all_pokemon[all_pokemon['name'] != pokemon['name']].iterrows():\n",
    "        battle_tuple = tuple(sorted([pokemon['pokedex_number'], opponent['pokedex_number']]))\n",
    "        \n",
    "        if battle_tuple not in seen_battles:\n",
    "            seen_battles.add(battle_tuple)\n",
    "            \n",
    "            # Simulera striden\n",
    "            battle_result = simulate_battle(pokemon, opponent, model)\n",
    "            battle_result.update({\n",
    "                'battle_id': battle_id,\n",
    "                'opponent_name': opponent['name']\n",
    "            })\n",
    "\n",
    "            battle_results.append(battle_result)\n",
    "            battle_id += 1\n",
    "\n",
    "    return pd.DataFrame(battle_results)\n",
    "\n",
    "\n",
    "pikachu = df_encoded[df_encoded['name'] == 'Pikachu'].iloc[0]\n",
    "results_df = simulate_one_vs_all(pikachu, df_encoded, xgboost_model)\n"
   ]
  }
 ],
 "metadata": {
  "kernelspec": {
   "display_name": ".venv",
   "language": "python",
   "name": "python3"
  },
  "language_info": {
   "codemirror_mode": {
    "name": "ipython",
    "version": 3
   },
   "file_extension": ".py",
   "mimetype": "text/x-python",
   "name": "python",
   "nbconvert_exporter": "python",
   "pygments_lexer": "ipython3",
   "version": "3.8.19"
  }
 },
 "nbformat": 4,
 "nbformat_minor": 2
}
