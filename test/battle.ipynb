{
 "cells": [
  {
   "cell_type": "code",
   "execution_count": 16,
   "metadata": {},
   "outputs": [],
   "source": [
    "import pandas as pd\n",
    "import numpy as np\n",
    "from sklearn.ensemble import RandomForestClassifier\n",
    "import plotly.express as px\n",
    "import itertools\n",
    "from sklearn.model_selection import train_test_split, cross_val_score\n",
    "from sklearn.metrics import accuracy_score, classification_report, confusion_matrix\n",
    "import joblib\n",
    "from sklearn.preprocessing import OneHotEncoder\n",
    "from sklearn.metrics import roc_curve, roc_auc_score\n",
    "import plotly.graph_objects as go\n",
    "import plotly.figure_factory as ff\n",
    "\n"
   ]
  },
  {
   "cell_type": "code",
   "execution_count": null,
   "metadata": {},
   "outputs": [],
   "source": [
    "data = pd.read_csv('../data/pokemon_data_cleaned.csv')\n",
    "\n",
    "df = data.copy()\n",
    "\n",
    "df = pd.DataFrame(df)\n",
    "\n",
    "df.head()"
   ]
  },
  {
   "cell_type": "code",
   "execution_count": 18,
   "metadata": {},
   "outputs": [],
   "source": [
    "# pikachu = df[(df['name'] == 'Pikachu')]\n"
   ]
  },
  {
   "cell_type": "code",
   "execution_count": 19,
   "metadata": {},
   "outputs": [],
   "source": [
    "def get_first_attacker(p1, p2):\n",
    "    if p1['speed'] > p2['speed']:\n",
    "        return p1, p2\n",
    "    elif p2['speed'] > p1['speed']:\n",
    "        return p2, p1\n",
    "    else:\n",
    "        attacker = np.random.choice([p1, p2])\n",
    "        defender = p2 if attacker == p1 else p1\n",
    "        return attacker, defender\n",
    "\n",
    "# En attack räknas ut såhär:\n",
    "# (attack / defense) * effectiveness * random_factor\n",
    "def calculate_attack_damage(attacker, defender, effectiveness):\n",
    "    random_factor = np.random.uniform(0.85, 1.0)\n",
    "    attack = attacker['attack']\n",
    "    defense = defender['defense']\n",
    "    \n",
    "    damage = (attack / defense) * effectiveness * random_factor\n",
    "    return damage\n",
    "\n",
    "# Räknar ut skadan\n",
    "def perform_attack(attacker, defender):\n",
    "    attacker_type = attacker['primary_type']\n",
    "    effectiveness = defender.get(f'{attacker_type.lower()}_attack_effectiveness', 1)\n",
    "    \n",
    "    damage = calculate_attack_damage(attacker, defender, effectiveness)\n",
    "    defender['hp'] -= damage\n",
    "    return defender['hp'] <= 0, damage \n",
    "\n",
    "def handle_round(attacker, defender):\n",
    "  if perform_attack(attacker, defender):\n",
    "      return attacker, defender\n",
    "  if perform_attack(defender, attacker):\n",
    "      return defender, attacker\n",
    "  return None, None\n",
    "\n",
    "def simulate_battle(p1, p2):\n",
    "    p1['hp'] = p1['original_hp']\n",
    "    p2['hp'] = p2['original_hp']\n",
    "    \n",
    "    attacker, defender = get_first_attacker(p1, p2)\n",
    "    while True:\n",
    "        winner, loser = handle_round(attacker, defender)\n",
    "        \n",
    "        if winner:\n",
    "            return winner, loser\n"
   ]
  },
  {
   "cell_type": "code",
   "execution_count": 20,
   "metadata": {},
   "outputs": [],
   "source": [
    "n_per_type = 7\n",
    "\n",
    "# Slumpa fram n_pokemon från hela dataramen\n",
    "sample_pokemon = df.groupby('primary_type').apply(lambda x: x.sample(n=n_per_type, random_state=42)).reset_index(drop=True)\n",
    "\n",
    "# Skapa alla möjliga par av de slumpade Pokémon\n",
    "pokemon_pairs = list(itertools.combinations(sample_pokemon.to_dict(orient='records'), 2))"
   ]
  },
  {
   "cell_type": "code",
   "execution_count": null,
   "metadata": {},
   "outputs": [],
   "source": [
    "print(f'Number of Battles: {len(pokemon_pairs)}')"
   ]
  },
  {
   "cell_type": "code",
   "execution_count": 22,
   "metadata": {},
   "outputs": [],
   "source": [
    "try:\n",
    "    battle_results = []\n",
    "    battle_id = 1 \n",
    "\n",
    "    for p1, p2 in pokemon_pairs:\n",
    "        winner, loser = simulate_battle(p1, p2)\n",
    "        \n",
    "        winner_effektiveness = winner.get(f'{loser[\"primary_type\"].lower()}_attack_effectiveness', 1)\n",
    "        loser_effektiveness = loser.get(f'{winner[\"primary_type\"].lower()}_attack_effectiveness', 1)\n",
    "\n",
    "        battle_results.append ({\n",
    "            'battle_id': battle_id,\n",
    "            'name': winner['name'],\n",
    "            'pokemon_id': winner['pokedex_number'],\n",
    "            'type': winner['primary_type'],\n",
    "            'primary_type': winner['primary_type'],\n",
    "            'pokemon_class': winner['pokemon_class'],\n",
    "            'attack': winner['attack'],\n",
    "            'defense': winner['defense'],\n",
    "            'speed': winner['speed'],\n",
    "            'hp': winner['original_hp'],\n",
    "            'effectiveness': winner_effektiveness,\n",
    "            'opponent_id': loser['pokedex_number'],\n",
    "            'opponent_name': loser['name'],\n",
    "            'opponent_primary_type': loser['primary_type'],\n",
    "            'attack_first': winner['speed'] > loser['speed'], \n",
    "            'is_winner': True,\n",
    "        })\n",
    "        battle_results.append({\n",
    "            'battle_id': battle_id,\n",
    "            'name': loser['name'],\n",
    "            'pokemon_id': loser['pokedex_number'],\n",
    "            'type': loser['primary_type'],\n",
    "            'primary_type': loser['primary_type'],\n",
    "            'pokemon_class': loser['pokemon_class'],\n",
    "            'attack': loser['attack'],\n",
    "            'defense': loser['defense'],\n",
    "            'speed': loser['speed'],\n",
    "            'hp': loser['original_hp'],\n",
    "            'effectiveness': loser_effektiveness,\n",
    "            'opponent_id': winner['pokedex_number'],\n",
    "            'opponent_name': winner['name'],\n",
    "            'opponent_primary_type': winner['primary_type'],\n",
    "            'attack_first': loser['speed'] > winner['speed'],\n",
    "            'is_winner': False\n",
    "        })\n",
    "        battle_id += 1\n",
    "\n",
    "except Exception as e:\n",
    "    print(f\"An error occurred during battle {battle_id} between {p1['name']} and {p2['name']}: {e}\")\n"
   ]
  },
  {
   "cell_type": "code",
   "execution_count": 23,
   "metadata": {},
   "outputs": [],
   "source": [
    "df_battles = pd.DataFrame(battle_results)\n",
    "# df_battles.dtypes"
   ]
  },
  {
   "cell_type": "code",
   "execution_count": 24,
   "metadata": {},
   "outputs": [],
   "source": [
    "encoder = OneHotEncoder(handle_unknown='ignore', sparse_output=False)\n",
    "\n",
    "encoder.fit(df_battles[['type', 'pokemon_class']])\n",
    "\n",
    "df_encoded = encoder.transform(df_battles[['type', 'pokemon_class']])\n",
    "\n",
    "df_encoded = pd.DataFrame(df_encoded, columns=encoder.get_feature_names_out(['type', 'pokemon_class']))\n",
    "\n",
    "df_encoded = pd.concat([df_battles.drop(columns=['type', 'pokemon_class']), df_encoded], axis=1)"
   ]
  },
  {
   "cell_type": "code",
   "execution_count": null,
   "metadata": {},
   "outputs": [],
   "source": [
    "df_encoded['name'].value_counts()"
   ]
  },
  {
   "cell_type": "markdown",
   "metadata": {},
   "source": [
    "## XGBoost"
   ]
  },
  {
   "cell_type": "code",
   "execution_count": null,
   "metadata": {},
   "outputs": [],
   "source": [
    "xgboost_model = joblib.load('../models/xgboost_model.pkl')\n",
    "cols_to_use = ['attack', 'defense', 'speed', 'hp', 'effectiveness','attack_first', 'pokemon_class_Legendary', 'pokemon_class_Mythical', 'pokemon_class_Normal']\n",
    "\n",
    "X = df_encoded[cols_to_use]\n",
    "\n",
    "prediction = xgboost_model.predict(X)\n",
    "\n",
    "prediction"
   ]
  },
  {
   "cell_type": "code",
   "execution_count": null,
   "metadata": {},
   "outputs": [],
   "source": [
    "y_true = df_encoded['is_winner']\n",
    "y_prob = xgboost_model.predict_proba(X)[:, 1]\n",
    "\n",
    "fpr, tpr, thresholds = roc_curve(y_true, y_prob)\n",
    "auc_score = roc_auc_score(y_true, y_prob)\n",
    "\n",
    "print(f'AUC Score: {auc_score}')\n"
   ]
  },
  {
   "cell_type": "code",
   "execution_count": null,
   "metadata": {},
   "outputs": [],
   "source": [
    "fig = ff.create_distplot([y_true, prediction], group_labels=['True Values', 'Predicted Values'], colors=['green', 'red'], show_hist=False)\n",
    "\n",
    "fig.update_layout(\n",
    "    title='Distribution av True och Predicted Values',\n",
    "    xaxis_title='True (0) - False (1)',\n",
    "    yaxis_title='Density',\n",
    ")\n",
    "\n",
    "\n",
    "fig.show()"
   ]
  },
  {
   "cell_type": "markdown",
   "metadata": {},
   "source": [
    "## Random Forest"
   ]
  },
  {
   "cell_type": "code",
   "execution_count": null,
   "metadata": {},
   "outputs": [],
   "source": [
    "rf_model = joblib.load('../models/rf_best_model.pkl')\n",
    "cols_to_use = ['attack', 'defense', 'speed', 'hp', 'effectiveness','attack_first']\n",
    "\n",
    "X = df_encoded[cols_to_use]\n",
    "rf_pred = rf_model.predict(X)\n",
    "\n",
    "rf_pred\n",
    "\n",
    "y_true = df_encoded['is_winner']\n",
    "y_prob = rf_model.predict_proba(X)[:, 1]\n",
    "\n",
    "fpr, tpr, thresholds = roc_curve(y_true, y_prob)\n",
    "auc_score = roc_auc_score(y_true, y_prob)\n",
    "\n",
    "print(f'AUC Score: {auc_score}')"
   ]
  }
 ],
 "metadata": {
  "kernelspec": {
   "display_name": ".venv",
   "language": "python",
   "name": "python3"
  },
  "language_info": {
   "codemirror_mode": {
    "name": "ipython",
    "version": 3
   },
   "file_extension": ".py",
   "mimetype": "text/x-python",
   "name": "python",
   "nbconvert_exporter": "python",
   "pygments_lexer": "ipython3",
   "version": "3.8.19"
  }
 },
 "nbformat": 4,
 "nbformat_minor": 2
}
